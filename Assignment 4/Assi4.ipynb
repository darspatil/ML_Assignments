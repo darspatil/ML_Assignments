{
 "cells": [
  {
   "cell_type": "code",
   "execution_count": 19,
   "id": "26caf833",
   "metadata": {},
   "outputs": [],
   "source": [
    "import numpy as np\n",
    "import pandas as pd\n",
    "from sklearn.model_selection import train_test_split\n",
    "from sklearn.metrics import accuracy_score, precision_score, recall_score, f1_score, confusion_matrix"
   ]
  },
  {
   "cell_type": "code",
   "execution_count": 20,
   "id": "bae97219",
   "metadata": {},
   "outputs": [],
   "source": [
    "actual = ['Dog', 'Cat', 'Tiger','Dog', 'Cat', 'Tiger', 'Dog', 'Cat', 'Tiger', 'Dog', 'Cat', 'Tiger', 'Dog', 'Cat', 'Tiger']\n",
    "predicted = ['Dog', 'Cat', 'Tiger','Cat', 'Cat', 'Tiger', 'Dog', 'Dog', 'Tiger', 'Dog', 'Cat', 'Tiger', 'Dog', 'Dog', 'Tiger']"
   ]
  },
  {
   "cell_type": "markdown",
   "id": "1d852bbb",
   "metadata": {},
   "source": [
    "# Accurancy Score"
   ]
  },
  {
   "cell_type": "code",
   "execution_count": 21,
   "id": "49d9fc89",
   "metadata": {},
   "outputs": [
    {
     "data": {
      "text/plain": [
       "0.8"
      ]
     },
     "execution_count": 21,
     "metadata": {},
     "output_type": "execute_result"
    }
   ],
   "source": [
    "accurancy = accuracy_score(actual, predicted)\n",
    "accurancy"
   ]
  },
  {
   "cell_type": "markdown",
   "id": "f636b197",
   "metadata": {},
   "source": [
    "# Confussion Matrix"
   ]
  },
  {
   "cell_type": "code",
   "execution_count": 22,
   "id": "4492ab44",
   "metadata": {},
   "outputs": [
    {
     "data": {
      "text/plain": [
       "array([[3, 2, 0],\n",
       "       [1, 4, 0],\n",
       "       [0, 0, 5]], dtype=int64)"
      ]
     },
     "execution_count": 22,
     "metadata": {},
     "output_type": "execute_result"
    }
   ],
   "source": [
    "conf_matrix = confusion_matrix(actual,predicted)\n",
    "conf_matrix"
   ]
  },
  {
   "cell_type": "code",
   "execution_count": 31,
   "id": "b1d6075f",
   "metadata": {},
   "outputs": [
    {
     "data": {
      "image/png": "[encoded data removed]",
      "text/plain": [
       "<Figure size 600x500 with 2 Axes>"
      ]
     },
     "metadata": {},
     "output_type": "display_data"
    }
   ],
   "source": [
    "labels = [\"Dog\", \"Cat\", \"Tiger\"]\n",
    "cm = confusion_matrix(actual, predicted, labels=labels)\n",
    "\n",
    "plt.figure(figsize=(6, 5))\n",
    "sns.heatmap(cm, annot=True, fmt='d', cmap='Blues', xticklabels=labels, yticklabels=labels)\n",
    "plt.xlabel('Predicted Labels')\n",
    "plt.ylabel('True Labels')\n",
    "plt.title('Confusion Matrix')\n",
    "plt.show()"
   ]
  },
  {
   "cell_type": "markdown",
   "id": "a4800d88",
   "metadata": {},
   "source": [
    "# Precision = True Positive / True Positive + False Positive"
   ]
  },
  {
   "cell_type": "code",
   "execution_count": 23,
   "id": "97e7e0af",
   "metadata": {},
   "outputs": [
    {
     "data": {
      "text/plain": [
       "0.8055555555555555"
      ]
     },
     "execution_count": 23,
     "metadata": {},
     "output_type": "execute_result"
    }
   ],
   "source": [
    "precision = precision_score(actual, predicted, average='macro')\n",
    "precision"
   ]
  },
  {
   "cell_type": "markdown",
   "id": "bdae04cc",
   "metadata": {},
   "source": [
    "# Recall = True Positive / True Positive + False Negative "
   ]
  },
  {
   "cell_type": "code",
   "execution_count": 24,
   "id": "a2affcd0",
   "metadata": {},
   "outputs": [
    {
     "data": {
      "text/plain": [
       "0.7999999999999999"
      ]
     },
     "execution_count": 24,
     "metadata": {},
     "output_type": "execute_result"
    }
   ],
   "source": [
    "recall = recall_score(actual, predicted, average='macro')   \n",
    "recall"
   ]
  },
  {
   "cell_type": "markdown",
   "id": "9ff5dc35",
   "metadata": {},
   "source": [
    "# F1 = 2 * Precision*Recall / Precison + Recall"
   ]
  },
  {
   "cell_type": "code",
   "execution_count": 25,
   "id": "1bb13681",
   "metadata": {},
   "outputs": [
    {
     "data": {
      "text/plain": [
       "0.7979797979797979"
      ]
     },
     "execution_count": 25,
     "metadata": {},
     "output_type": "execute_result"
    }
   ],
   "source": [
    "f1 = f1_score(actual, predicted, average='macro') \n",
    "f1"
   ]
  },
  {
   "cell_type": "code",
   "execution_count": 26,
   "id": "1c5b093b",
   "metadata": {},
   "outputs": [
    {
     "name": "stdout",
     "output_type": "stream",
     "text": [
      "Accuracy: 0.8000\n",
      "Precision: 0.8056\n",
      "Recall: 0.8000\n",
      "F1-score: 0.7980\n"
     ]
    }
   ],
   "source": [
    "print(f'Accuracy: {accuracy:.4f}')\n",
    "print(f'Precision: {precision:.4f}')\n",
    "print(f'Recall: {recall:.4f}')\n",
    "print(f'F1-score: {f1:.4f}')\n"
   ]
  },
  {
   "cell_type": "code",
   "execution_count": null,
   "id": "a36d7f89",
   "metadata": {},
   "outputs": [],
   "source": []
  },
  {
   "cell_type": "code",
   "execution_count": null,
   "id": "5c8543f6",
   "metadata": {},
   "outputs": [],
   "source": []
  }
 ],
 "metadata": {
  "kernelspec": {
   "display_name": "Python 3 (ipykernel)",
   "language": "python",
   "name": "python3"
  },
  "language_info": {
   "codemirror_mode": {
    "name": "ipython",
    "version": 3
   },
   "file_extension": ".py",
   "mimetype": "text/x-python",
   "name": "python",
   "nbconvert_exporter": "python",
   "pygments_lexer": "ipython3",
   "version": "3.11.5"
  }
 },
 "nbformat": 4,
 "nbformat_minor": 5
}
